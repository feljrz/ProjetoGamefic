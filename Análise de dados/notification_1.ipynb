{
 "cells": [
  {
   "cell_type": "code",
   "execution_count": null,
   "metadata": {},
   "outputs": [],
   "source": []
  },
  {
   "cell_type": "markdown",
   "execution_count": null,
   "metadata": {},
   "outputs": [],
   "source": [
    "# Notificações\n",
    "## Importando Bibliotecas"
   ]
  },
  {
   "cell_type": "code",
   "execution_count": null,
   "metadata": {},
   "outputs": [],
   "source": [
    "import pandas as pd\n",
    "import matplotlib.pyplot as plt\n",
    "import numpy as np\n",
    "from IPython.display import display, HTML\n",
    "import collections\n",
    "from random import random"
   ]
  },
  {
   "cell_type": "markdown",
   "execution_count": null,
   "metadata": {},
   "outputs": [],
   "source": [
    "## Dividindo o dataset por episódio"
   ]
  },
  {
   "cell_type": "code",
   "execution_count": null,
   "metadata": {},
   "outputs": [],
   "source": [
    "# separando por episódio:\n",
    "def episode_split(df, id):\n",
    "    dfcopy = df.copy()\n",
    "    dfcopy = dfcopy.loc[dfcopy['episode_id'] == id]\n",
    "    #Separa o episódio por semanas\n",
    "    index_week = dfcopy.loc[dfcopy['goal'] == 19611, 'goal'].index.to_list()\n",
    "    k = 0\n",
    "    week = []\n",
    "    for x in range(dfcopy.shape[0]):\n",
    "        week.append(k)\n",
    "        if x in index_week:\n",
    "            k += 1\n",
    "    w = pd.Series(week, name= \"week\")\n",
    "    episode = pd.concat([dfcopy, w], axis = 1)\n",
    "    return episode"
   ]
  },
  {
   "cell_type": "markdown",
   "execution_count": null,
   "metadata": {},
   "outputs": [],
   "source": [
    "## Estabelecendo a média diária ou semanal de cada equipe"
   ]
  },
  {
   "cell_type": "code",
   "execution_count": null,
   "metadata": {},
   "outputs": [],
   "source": [
    "#Defininido o tempo de cada time\n",
    "def team_time(df):\n",
    "    dfcopy = df.copy()\n",
    "    weeks = []\n",
    "    teams = dfcopy['team_id'].unique()\n",
    "    for x in teams:\n",
    "        weeks.append(len(dfcopy.loc[(dfcopy['team_id'] == x) & (dfcopy['goal'] == 19611), ['team_id']]))\n",
    "    days = np.array(weeks) * 7\n",
    "    return pd.DataFrame(pd.DataFrame({'team_id':teams, 'weeks':weeks, 'days':days}))\n",
    "    "
   ]
  },
  {
   "cell_type": "code",
   "execution_count": null,
   "metadata": {},
   "outputs": [],
   "source": [
    "#Necessário estabelecer média de cada time pois o tempo corrente individualmente é diferente\n",
    "def player_mean(df, interval='days'):\n",
    "    dfcopy = df.copy()\n",
    "    weeks = []\n",
    "    time = team_time(dfcopy)\n",
    "    aux = dfcopy[['team_id', 'player_id', 'score']]\n",
    "    aux['score'] /= (aux['team_id'].map(time.set_index('team_id')[interval]))\n",
    "    gp = aux.groupby(['player_id'], as_index=False).mean()\n",
    "\n",
    "    player_pivot = gp.pivot(index= 'player_id', columns='team_id', values='score')\n",
    "    player_pivot.columns = player_pivot.columns.astype('str')\n",
    "    player_mean = player_pivot.sort_values(player_pivot.columns.to_list(), ascending=False, na_position='last')\n",
    "    return player_mean\n"
   ]
  },
  {
   "cell_type": "markdown",
   "execution_count": null,
   "metadata": {},
   "outputs": [],
   "source": [
    "### Simulação de Monte Carlo com v.a. Normal para Score "
   ]
  },
  {
   "cell_type": "code",
   "execution_count": null,
   "metadata": {},
   "outputs": [],
   "source": [
    "\n",
    "def score_simulation(df):\n",
    "    dfcopy = df.copy()\n",
    "    \n",
    "    for j in dfcopy.columns.astype('str'):\n",
    "        normal_va = np.random.normal(dfcopy[j].mean(), dfcopy[j].std(), len(dfcopy.index))\n",
    "        normal_va = np.absolute(normal_va)\n",
    "        normal_va = pd.DataFrame({'score':normal_va}).set_index(dfcopy.index)\n",
    "    \n",
    "        for i in dfcopy.index:\n",
    "            for x in pd.isna(dfcopy.loc[dfcopy.index == i, [j]])[j].to_list():\n",
    "                if x:\n",
    "                    dfcopy.loc[dfcopy.index == i,[j]] = np.NaN\n",
    "                else:\n",
    "                    dfcopy.loc[dfcopy.index == i,[j]] = normal_va.loc[normal_va.index== i,:]['score']\n",
    "    dfcopy = dfcopy.sort_values(dfcopy.columns.to_list(), ascending=False, na_position='last')\n",
    "    return dfcopy"
   ]
  },
  {
   "cell_type": "code",
   "execution_count": null,
   "metadata": {},
   "outputs": [],
   "source": [
    "def get_key(dictionary ,value):\n",
    "    for key, v in dictionary.items():\n",
    "        if v == value:\n",
    "            return key"
   ]
  },
  {
   "cell_type": "code",
   "execution_count": 51,
   "metadata": {},
   "outputs": [],
   "source": [
    "#Definindo uma lista de dicionários com a posição e o id de cada player\n",
    "def player_position(player_mean):\n",
    "    data = pd.DataFrame()\n",
    "    dicio = {}\n",
    "    dicio_list = []\n",
    "    for j in player_mean.columns:\n",
    "        k = 0\n",
    "        for i in player_mean.index:\n",
    "            value = player_mean.at[i, j]\n",
    "            if not(pd.isna(value)):\n",
    "                k += 1 #posição do player no seu time\n",
    "                dicio.update({k:i})  #adiciona no dicionario posicao e id\n",
    "        new_dict = dicio.copy()\n",
    "        dicio_list.append(new_dict)\n",
    "        return dicio_list"
   ]
  },
  {
   "cell_type": "code",
   "execution_count": null,
   "metadata": {},
   "outputs": [],
   "source": [
    "#Gerenado as notificações\n",
    "def notification(player_mean, player_sim, indicators, note_type='difference'):\n",
    "    info_12 = []\n",
    "    notification_1 = []\n",
    "    notification_2 = []\n",
    "    notification_3 = []\n",
    "    dicio_list = player_position(player_mean) \n",
    "\n",
    "\n",
    "\n",
    "    for j in player_mean.columns:\n",
    "        for x in dicio_list:\n",
    "            x_values = list(x.values())\n",
    "            for k in x_values:\n",
    "                player_m1 = player_mean.at[k,j]\n",
    "                if not(pd.isna(player_m1)):\n",
    "                    for m in range(1 , len(x_values)+1):\n",
    "                        player_m2 = player_mean.at[x[m], j]\n",
    "                        if not(pd.isna(player_m2)):\n",
    "                            mean_dif = np.absolute(player_m1 - player_m2)\n",
    "                            current_score = player_sim.at[x[m], j]\n",
    "                            if mean_dif != 0:\n",
    "                                pass_score = mean_dif - current_score #Score que o player_m2 necessita para passar o player_m1\n",
    "                                indicador = indicators.copy()\n",
    "                                indicador['score_to_pass'] = pass_score/indicador['weight']\n",
    "\n",
    "                                info_12.append(f'Player1: {k} Player2: {x[m]} P1: {player_m1} para P2: {player_m2}')\n",
    "                                notification_1.append(f'Player {x[m]} a pontuação média do Player {get_key(x, k)} é {int(mean_dif)} pontos maior que a sua')\n",
    "                                notification_2.append(f'Player {x[m]} faça {int(pass_score)} pontos para ultrapassar o Player {k} na posição {get_key(x, k)}')\n",
    "                                #Pontuação e indicador referente para ultrapassar\n",
    "                                for indi_id in indicador['indicator_id']:\n",
    "                                    indi_score = indicador.loc[indicador['indicator_id'] == indi_id, 'score_to_pass'].to_list()[0]\n",
    "                                    notification_3.append(f'Player {x[m]} faça {int(indi_score)} pontos referentes ao indicador {indi_id} para passar o player {k}')\n",
    "\n",
    "    if note_type == 'overcome':\n",
    "        return notification_1\n",
    "    elif note_type == 'indicator':\n",
    "        return notification_2\n",
    "    elif note_type == 'difference': \n",
    "        return notification_3\n"
   ]
  },
  {
   "cell_type": "code",
   "execution_count": null,
   "metadata": {},
   "outputs": [],
   "source": [
    "results = pd.read_csv(\"../compiled_result.csv\")"
   ]
  },
  {
   "cell_type": "code",
   "execution_count": null,
   "metadata": {},
   "outputs": [],
   "source": [
    "results.drop(labels=['goal_type', 'score'], axis=1, inplace=True)"
   ]
  },
  {
   "cell_type": "markdown",
   "execution_count": null,
   "metadata": {},
   "outputs": [],
   "source": [
    "## Selecionando o episódio com ID 35, pois contém maior volume de dados"
   ]
  },
  {
   "cell_type": "code",
   "execution_count": null,
   "metadata": {},
   "outputs": [],
   "source": [
    "episode = episode_split(results, 35)"
   ]
  },
  {
   "cell_type": "markdown",
   "execution_count": null,
   "metadata": {},
   "outputs": [],
   "source": [
    "## Estabelecendo um Score"
   ]
  },
  {
   "cell_type": "code",
   "execution_count": null,
   "metadata": {},
   "outputs": [],
   "source": [
    "#define pesos para os indicadores\n",
    "idc_unq = episode['indicator_id'].unique()\n",
    "np.array(idc_unq)\n",
    "indicators = pd.DataFrame(data={ 'indicator_id': idc_unq, 'weight': [1, 2, 1, 1, 3, 2, 1]})"
   ]
  },
  {
   "cell_type": "code",
   "execution_count": null,
   "metadata": {},
   "outputs": [],
   "source": [
    "#Define o score dos players\n",
    "episode = episode.merge(indicators , how='left')\n",
    "episode['score'] = episode['result'] * episode['weight']"
   ]
  },
  {
   "cell_type": "code",
   "execution_count": null,
   "metadata": {},
   "outputs": [],
   "source": [
    "player_mean = player_mean(episode, interval='days')\n",
    "player_mean = player_mean.drop(labels=['41'], axis=1) #Nescessário eliminar o time 41 pela falta de dados"
   ]
  },
  {
   "cell_type": "code",
   "execution_count": null,
   "metadata": {},
   "outputs": [],
   "source": [
    "player_sim = score_simulation(player_mean)"
   ]
  },
  {
   "cell_type": "markdown",
   "execution_count": null,
   "metadata": {},
   "outputs": [],
   "source": [
    "## Notificão"
   ]
  },
  {
   "cell_type": "code",
   "execution_count": null,
   "metadata": {},
   "outputs": [],
   "source": [
    "note = notification(player_mean, player_sim, indicators, 'difference')"
   ]
  }
 ],
 "metadata": {
  "file_extension": ".py",
  "kernelspec": {
   "display_name": "Python 3",
   "language": "python",
   "name": "python3"
  },
  "language_info": {
   "codemirror_mode": {
    "name": "ipython",
    "version": 3
   },
   "file_extension": ".py",
   "mimetype": "text/x-python",
   "name": "python",
   "nbconvert_exporter": "python",
   "pygments_lexer": "ipython3",
   "version": "3.6.9-final"
  },
  "mimetype": "text/x-python",
  "name": "python",
  "npconvert_exporter": "python",
  "pygments_lexer": "ipython3",
  "version": 3
 },
 "nbformat": 4,
 "nbformat_minor": 2
}